{
 "cells": [
  {
   "cell_type": "markdown",
   "metadata": {},
   "source": [
    "# Python Basics Tutorial\n",
    "Created by Rein Bugnot <br>\n",
    "Part of a 3-part series workshop for machine learning basics using Python\n",
    "\n",
    "More info: https://github.com/reinbugnot <br>\n",
    "Linkedin: https://www.linkedin.com/in/reinbugnot/"
   ]
  },
  {
   "cell_type": "markdown",
   "metadata": {},
   "source": [
    "## Part 1: Getting Comfortable with I-Python Notebook\n",
    "============================================================"
   ]
  },
  {
   "cell_type": "markdown",
   "metadata": {},
   "source": [
    "### Basics of Ipython Notebooks\n",
    "\n",
    "There are two major types of cells:\n",
    "\n",
    "1) Markdown cells - simple text. One can do html tags like <b>BOLD</b> or latex like $\\beta$.\n",
    "\n",
    "2) Code cells - cells where we can run code.\n",
    "\n",
    "<b>Shortcuts</b>\n",
    "\n",
    "1) <b>CTRL-ENTER</b> to Run Code but stay in the same cell\n",
    "\n",
    "2) <b>SHIFT-ENTER</b> to Run Code and advance to the next cell"
   ]
  },
  {
   "cell_type": "markdown",
   "metadata": {},
   "source": [
    "SAMPLE MARKDOWN"
   ]
  },
  {
   "cell_type": "code",
   "execution_count": null,
   "metadata": {},
   "outputs": [],
   "source": [
    "SAMPLE CODE"
   ]
  },
  {
   "cell_type": "markdown",
   "metadata": {},
   "source": [
    "### Print: How to display values and text"
   ]
  },
  {
   "cell_type": "code",
   "execution_count": 39,
   "metadata": {},
   "outputs": [
    {
     "name": "stdout",
     "output_type": "stream",
     "text": [
      "15\n",
      "4.2325\n",
      "Apple\n",
      "Rein\n"
     ]
    }
   ],
   "source": [
    "#The built-in print function 'prints' the assigned value after the ipython cell.\n",
    "#Does not affect the code logic\n",
    "\n",
    "# SYNTAX: print(input)\n",
    "\n",
    "print(15)\n",
    "\n",
    "c = 4.2325\n",
    "print(c)\n",
    "\n",
    "print('Apple')\n",
    "\n",
    "f = 'Rein'\n",
    "print(f)"
   ]
  },
  {
   "cell_type": "code",
   "execution_count": 40,
   "metadata": {},
   "outputs": [
    {
     "name": "stdout",
     "output_type": "stream",
     "text": [
      "My favorite number is 15\n",
      "The value inside variable c = 4.2325\n",
      "Pogi si Rein\n"
     ]
    }
   ],
   "source": [
    "#Taking a step further: how to make your prints be more insightful\n",
    "\n",
    "print('My favorite number is ' + str(15))\n",
    "print('The value inside variable c = ' + str(c))\n",
    "print('Pogi si ' + f)"
   ]
  },
  {
   "cell_type": "markdown",
   "metadata": {},
   "source": [
    "### Python and Data Types\n",
    "Python uses the following 5 standard data types"
   ]
  },
  {
   "cell_type": "markdown",
   "metadata": {},
   "source": [
    "#### Numbers\n",
    "Numerical values"
   ]
  },
  {
   "cell_type": "code",
   "execution_count": 21,
   "metadata": {},
   "outputs": [],
   "source": [
    "#Integers\n",
    "a = 1\n",
    "\n",
    "#Float\n",
    "b = 1.0\n",
    "c = 6.23152"
   ]
  },
  {
   "cell_type": "markdown",
   "metadata": {},
   "source": [
    "#### Strings\n",
    "Text-based values"
   ]
  },
  {
   "cell_type": "code",
   "execution_count": 23,
   "metadata": {},
   "outputs": [
    {
     "name": "stdout",
     "output_type": "stream",
     "text": [
      "Rein \n",
      "Jom Justine \n",
      "Rein Jom Justine \n"
     ]
    }
   ],
   "source": [
    "#Strings\n",
    "d = 'Rein '\n",
    "e = 'Jom ' + 'Justine ' #This operation is called 'Concatenation'\n",
    "f = d + e\n",
    "\n",
    "print(d)\n",
    "print(e)\n",
    "print(f)"
   ]
  },
  {
   "cell_type": "markdown",
   "metadata": {},
   "source": [
    "#### Lists\n",
    "Changeable Ordered collection of values/data"
   ]
  },
  {
   "cell_type": "code",
   "execution_count": 34,
   "metadata": {},
   "outputs": [
    {
     "name": "stdout",
     "output_type": "stream",
     "text": [
      "[1, 2, 3, 'a', 'bc']\n",
      "[[1, 2], [3, 4], [5, 6]]\n"
     ]
    }
   ],
   "source": [
    "sample_list_empty = []\n",
    "sample_list_1d = [1,2,3,'a','bc']\n",
    "sample_list_2d = [[1,2], [3,4], [5,6]]\n",
    "\n",
    "print(sample_list_1d)\n",
    "print(sample_list_2d)"
   ]
  },
  {
   "cell_type": "code",
   "execution_count": 43,
   "metadata": {},
   "outputs": [
    {
     "name": "stdout",
     "output_type": "stream",
     "text": [
      "Length of 1D list: 5\n",
      "Length of 1D list: 3\n"
     ]
    }
   ],
   "source": [
    "#To check how many elements are contained within a list\n",
    "\n",
    "print('Length of 1D list: ' + str(len(sample_list_1d)))\n",
    "print('Length of 1D list: ' + str(len(sample_list_2d)))"
   ]
  },
  {
   "cell_type": "code",
   "execution_count": 46,
   "metadata": {},
   "outputs": [
    {
     "name": "stdout",
     "output_type": "stream",
     "text": [
      "1\n",
      "[5, 6]\n"
     ]
    }
   ],
   "source": [
    "#To retrieve an element from a list\n",
    "\n",
    "print(sample_list_1d[0])\n",
    "print(sample_list_2d[2])"
   ]
  },
  {
   "cell_type": "code",
   "execution_count": 152,
   "metadata": {},
   "outputs": [
    {
     "data": {
      "text/plain": [
       "[1, 2, 3, 'a', 'bc', 'd']"
      ]
     },
     "execution_count": 152,
     "metadata": {},
     "output_type": "execute_result"
    }
   ],
   "source": [
    "#To add an element into a list use .append()\n",
    "\n",
    "sample_list_1d.append('d')\n",
    "sample_list_1d"
   ]
  },
  {
   "cell_type": "markdown",
   "metadata": {},
   "source": [
    "#### Tuples\n",
    "Unchangeable Ordered collection of values/data"
   ]
  },
  {
   "cell_type": "code",
   "execution_count": 142,
   "metadata": {},
   "outputs": [
    {
     "name": "stdout",
     "output_type": "stream",
     "text": [
      "(1, 2, 'a', 'bc')\n",
      "4\n",
      "bc\n"
     ]
    }
   ],
   "source": [
    "sample_tuple_empty = ()\n",
    "sample_tuple = (1,2,'a', 'bc')\n",
    "\n",
    "print(sample_tuple)\n",
    "print(len(sample_tuple))\n",
    "print(sample_tuple[3])"
   ]
  },
  {
   "cell_type": "markdown",
   "metadata": {},
   "source": [
    "#### Dictionaries\n",
    "ASSIGNMENT # 1. On the next meeting, explain to me how Dictionaries in Python work. Give examples."
   ]
  },
  {
   "cell_type": "markdown",
   "metadata": {},
   "source": [
    "### Type Casting\n",
    "Converting one data type to another"
   ]
  },
  {
   "cell_type": "code",
   "execution_count": 18,
   "metadata": {},
   "outputs": [
    {
     "data": {
      "text/plain": [
       "int"
      ]
     },
     "execution_count": 18,
     "metadata": {},
     "output_type": "execute_result"
    }
   ],
   "source": [
    "#To check the data type\n",
    "type(a)"
   ]
  },
  {
   "cell_type": "code",
   "execution_count": 19,
   "metadata": {},
   "outputs": [
    {
     "data": {
      "text/plain": [
       "str"
      ]
     },
     "execution_count": 19,
     "metadata": {},
     "output_type": "execute_result"
    }
   ],
   "source": [
    "#To convert from one type to another use: int(), str(), float(), list(), tuple()\n",
    "a = str(a)\n",
    "type(a)"
   ]
  },
  {
   "cell_type": "code",
   "execution_count": 50,
   "metadata": {},
   "outputs": [
    {
     "data": {
      "text/plain": [
       "list"
      ]
     },
     "execution_count": 50,
     "metadata": {},
     "output_type": "execute_result"
    }
   ],
   "source": [
    "type(list(sample_tuple))"
   ]
  },
  {
   "cell_type": "markdown",
   "metadata": {},
   "source": [
    "### EXERCISE\n",
    "Given the following code and conditions, predict the output of the print statements"
   ]
  },
  {
   "cell_type": "code",
   "execution_count": 145,
   "metadata": {},
   "outputs": [
    {
     "name": "stdout",
     "output_type": "stream",
     "text": [
      "[]\n",
      "9.3\n",
      "9.3\n",
      "81.3\n",
      "<class 'tuple'>\n",
      "<class 'int'>\n",
      "59\n",
      "545\n",
      "4\n",
      "['a', 'b', 'c']\n",
      "c\n",
      "[4, 5, 6]\n"
     ]
    }
   ],
   "source": [
    "A = [[1,2,3], ['a','b','c'], [4,5,6], ['d','e','f']]\n",
    "B = [8,7,0,0,'Jollibee Delivery']\n",
    "C = 54\n",
    "D = 'Pringles'\n",
    "E = (7,0,1,'a')\n",
    "F = 1.3\n",
    "H = []\n",
    "G = [A,B,C,D,E,F]\n",
    "\n",
    "#Predict the outputs of the following print statements\n",
    "\n",
    "print(H)\n",
    "\n",
    "print(B[0] + F)\n",
    "\n",
    "print(str(B[0] + F))\n",
    "\n",
    "print(str(B[0]) + str(F))\n",
    "\n",
    "print(type(E))\n",
    "\n",
    "print(type(int(F)))\n",
    "\n",
    "print(C + 5)\n",
    "\n",
    "print(str(C) + str(5))\n",
    "\n",
    "print(len(A))\n",
    "\n",
    "print(A[1])\n",
    "\n",
    "print(A[1][2])\n",
    "\n",
    "print(G[0][2])"
   ]
  },
  {
   "cell_type": "markdown",
   "metadata": {},
   "source": [
    "## Part 2: Arithmetics"
   ]
  },
  {
   "cell_type": "markdown",
   "metadata": {},
   "source": [
    "### Python Arithmetic\n",
    "Basic Python Arithmetic"
   ]
  },
  {
   "cell_type": "code",
   "execution_count": 75,
   "metadata": {},
   "outputs": [
    {
     "data": {
      "text/plain": [
       "3"
      ]
     },
     "execution_count": 75,
     "metadata": {},
     "output_type": "execute_result"
    }
   ],
   "source": [
    "#Addition\n",
    "a = 1 + 2\n",
    "a"
   ]
  },
  {
   "cell_type": "code",
   "execution_count": 76,
   "metadata": {},
   "outputs": [
    {
     "data": {
      "text/plain": [
       "1"
      ]
     },
     "execution_count": 76,
     "metadata": {},
     "output_type": "execute_result"
    }
   ],
   "source": [
    "#Subtraction\n",
    "a = 2 - 1\n",
    "a"
   ]
  },
  {
   "cell_type": "code",
   "execution_count": 77,
   "metadata": {},
   "outputs": [
    {
     "data": {
      "text/plain": [
       "12"
      ]
     },
     "execution_count": 77,
     "metadata": {},
     "output_type": "execute_result"
    }
   ],
   "source": [
    "#Multiplication\n",
    "a = 3 * 4\n",
    "a"
   ]
  },
  {
   "cell_type": "code",
   "execution_count": 79,
   "metadata": {},
   "outputs": [
    {
     "data": {
      "text/plain": [
       "81"
      ]
     },
     "execution_count": 79,
     "metadata": {},
     "output_type": "execute_result"
    }
   ],
   "source": [
    "#Exponent\n",
    "a = 3 ** 4\n",
    "a"
   ]
  },
  {
   "cell_type": "code",
   "execution_count": 80,
   "metadata": {},
   "outputs": [
    {
     "data": {
      "text/plain": [
       "5.0"
      ]
     },
     "execution_count": 80,
     "metadata": {},
     "output_type": "execute_result"
    }
   ],
   "source": [
    "#Division\n",
    "a = 20 / 4\n",
    "a"
   ]
  },
  {
   "cell_type": "code",
   "execution_count": 81,
   "metadata": {},
   "outputs": [
    {
     "data": {
      "text/plain": [
       "5"
      ]
     },
     "execution_count": 81,
     "metadata": {},
     "output_type": "execute_result"
    }
   ],
   "source": [
    "#Integer Division\n",
    "a = 20 // 4\n",
    "a"
   ]
  },
  {
   "cell_type": "code",
   "execution_count": 83,
   "metadata": {},
   "outputs": [
    {
     "data": {
      "text/plain": [
       "5"
      ]
     },
     "execution_count": 83,
     "metadata": {},
     "output_type": "execute_result"
    }
   ],
   "source": [
    "#Integer Division part 2\n",
    "a = 21 // 4\n",
    "a"
   ]
  },
  {
   "cell_type": "code",
   "execution_count": 84,
   "metadata": {},
   "outputs": [
    {
     "data": {
      "text/plain": [
       "1"
      ]
     },
     "execution_count": 84,
     "metadata": {},
     "output_type": "execute_result"
    }
   ],
   "source": [
    "#Modulo (Remainder Operation)\n",
    "a = 21 % 4\n",
    "a"
   ]
  },
  {
   "cell_type": "code",
   "execution_count": 86,
   "metadata": {},
   "outputs": [
    {
     "data": {
      "text/plain": [
       "2"
      ]
     },
     "execution_count": 86,
     "metadata": {},
     "output_type": "execute_result"
    }
   ],
   "source": [
    "#Increment\n",
    "a = 1\n",
    "a += 1\n",
    "a"
   ]
  },
  {
   "cell_type": "code",
   "execution_count": 87,
   "metadata": {},
   "outputs": [
    {
     "data": {
      "text/plain": [
       "0"
      ]
     },
     "execution_count": 87,
     "metadata": {},
     "output_type": "execute_result"
    }
   ],
   "source": [
    "#Decrement\n",
    "a = 1\n",
    "a -= 1\n",
    "a"
   ]
  },
  {
   "cell_type": "code",
   "execution_count": 89,
   "metadata": {},
   "outputs": [
    {
     "data": {
      "text/plain": [
       "\"Hello, It's me\""
      ]
     },
     "execution_count": 89,
     "metadata": {},
     "output_type": "execute_result"
    }
   ],
   "source": [
    "#String Concatenation\n",
    "a = 'Hello, '\n",
    "b = \"It's me\"\n",
    "a+b"
   ]
  },
  {
   "cell_type": "code",
   "execution_count": 187,
   "metadata": {},
   "outputs": [
    {
     "data": {
      "text/plain": [
       "4"
      ]
     },
     "execution_count": 187,
     "metadata": {},
     "output_type": "execute_result"
    }
   ],
   "source": [
    "#Maximum Value\n",
    "a = [1,2,3,4]\n",
    "max(a)"
   ]
  },
  {
   "cell_type": "code",
   "execution_count": 188,
   "metadata": {},
   "outputs": [
    {
     "data": {
      "text/plain": [
       "1"
      ]
     },
     "execution_count": 188,
     "metadata": {},
     "output_type": "execute_result"
    }
   ],
   "source": [
    "#Minimum Value\n",
    "a = [1,2,3,4]\n",
    "min(a)"
   ]
  },
  {
   "cell_type": "code",
   "execution_count": 193,
   "metadata": {},
   "outputs": [
    {
     "data": {
      "text/plain": [
       "[2, 7, 11, 64]"
      ]
     },
     "execution_count": 193,
     "metadata": {},
     "output_type": "execute_result"
    }
   ],
   "source": [
    "#Sort Values\n",
    "a = [7,2,64,11]\n",
    "sorted(a)"
   ]
  },
  {
   "cell_type": "markdown",
   "metadata": {},
   "source": [
    "### EXERCISE\n",
    "Write the following to code\n",
    "\n",
    "$$ g(z) = \\frac{1}{1+e^{z}}  $$\n",
    "\n",
    "1) z = 8, and e = 2.718 should be equal to 0.0003\n",
    "\n",
    "2) z = 2, and e = 2.718 should be equal to 0.1192246961081721"
   ]
  },
  {
   "cell_type": "code",
   "execution_count": null,
   "metadata": {},
   "outputs": [],
   "source": [
    "z = 8\n",
    "e = 2.718\n",
    "\n",
    "g_z = #Code here"
   ]
  },
  {
   "cell_type": "markdown",
   "metadata": {},
   "source": [
    "## Part 3: Control Structures\n",
    "Boolean Operators, Conditionals, and Loops to control code logic"
   ]
  },
  {
   "cell_type": "markdown",
   "metadata": {},
   "source": [
    "### Boolean Operations"
   ]
  },
  {
   "cell_type": "code",
   "execution_count": 164,
   "metadata": {},
   "outputs": [
    {
     "name": "stdout",
     "output_type": "stream",
     "text": [
      "False\n"
     ]
    }
   ],
   "source": [
    "a = 5\n",
    "b = 10\n",
    "\n",
    "#Greater than\n",
    "a > b\n",
    "\n",
    "#Less than\n",
    "a < b\n",
    "\n",
    "#Equal to\n",
    "a == b\n",
    "#Question: What's the difference between 'a = b' and 'a == b'?\n",
    "\n",
    "#Greater than or equal to\n",
    "a >= b\n",
    "\n",
    "#less than or equal to\n",
    "a <= b\n",
    "\n",
    "#==========================\n",
    "print(a > b)"
   ]
  },
  {
   "cell_type": "markdown",
   "metadata": {},
   "source": [
    "### Conditionals\n",
    "If you want to set conditions before executing certain operations"
   ]
  },
  {
   "cell_type": "code",
   "execution_count": 165,
   "metadata": {},
   "outputs": [
    {
     "name": "stdout",
     "output_type": "stream",
     "text": [
      "230\n"
     ]
    }
   ],
   "source": [
    "#If-else\n",
    "\n",
    "if (a > b):\n",
    "    print('Awts')\n",
    "else:\n",
    "    print('230')"
   ]
  },
  {
   "cell_type": "code",
   "execution_count": 166,
   "metadata": {},
   "outputs": [
    {
     "name": "stdout",
     "output_type": "stream",
     "text": [
      "Nanalo ang UP Prediction\n"
     ]
    }
   ],
   "source": [
    "#If-else statements using Boolean Logic\n",
    "\n",
    "c = True\n",
    "\n",
    "if c:\n",
    "    print(\"Nanalo ang UP Prediction\")\n",
    "else:\n",
    "    print(\"Nanalo tayo\")"
   ]
  },
  {
   "cell_type": "code",
   "execution_count": 167,
   "metadata": {},
   "outputs": [
    {
     "name": "stdout",
     "output_type": "stream",
     "text": [
      "Ah basta solid parin\n"
     ]
    }
   ],
   "source": [
    "#If-elseif-else\n",
    "\n",
    "if (a > b):\n",
    "    print('Pasaway kasi kayo')\n",
    "elif (a == b):\n",
    "    print('Third world lang tayo')\n",
    "else:\n",
    "    print('Ah basta solid parin')"
   ]
  },
  {
   "cell_type": "code",
   "execution_count": 121,
   "metadata": {},
   "outputs": [
    {
     "name": "stdout",
     "output_type": "stream",
     "text": [
      "Like\n"
     ]
    }
   ],
   "source": [
    "#Multiple Conditions: AND (or &)\n",
    "c = 2\n",
    "d = 10\n",
    "\n",
    "if (c > 0) and (d % 2 == 0):\n",
    "    print('Like')\n",
    "else:\n",
    "    print('Parang')"
   ]
  },
  {
   "cell_type": "code",
   "execution_count": 116,
   "metadata": {},
   "outputs": [
    {
     "name": "stdout",
     "output_type": "stream",
     "text": [
      "Like\n"
     ]
    }
   ],
   "source": [
    "#Multiple Conditions: OR (or |)\n",
    "c = 2\n",
    "d = 10\n",
    "\n",
    "if (c > 0) or (d % 2 == 0):\n",
    "    print('Like')\n",
    "else:\n",
    "    print('Parang')"
   ]
  },
  {
   "cell_type": "markdown",
   "metadata": {},
   "source": [
    "### Loops\n",
    "Used to create repetitive sequences or iterations of operations"
   ]
  },
  {
   "cell_type": "code",
   "execution_count": 131,
   "metadata": {},
   "outputs": [
    {
     "name": "stdout",
     "output_type": "stream",
     "text": [
      "hey\n",
      "hey\n",
      "hey\n"
     ]
    }
   ],
   "source": [
    "#For loop\n",
    "\n",
    "for i in [1,2,3]:\n",
    "    print('hey')"
   ]
  },
  {
   "cell_type": "code",
   "execution_count": 137,
   "metadata": {},
   "outputs": [
    {
     "name": "stdout",
     "output_type": "stream",
     "text": [
      "0\n",
      "1\n",
      "2\n"
     ]
    }
   ],
   "source": [
    "for i in [0,1,2]:\n",
    "    print(i)"
   ]
  },
  {
   "cell_type": "code",
   "execution_count": 125,
   "metadata": {},
   "outputs": [
    {
     "data": {
      "text/plain": [
       "range(0, 10)"
      ]
     },
     "execution_count": 125,
     "metadata": {},
     "output_type": "execute_result"
    }
   ],
   "source": [
    "#BONUS: Special Data Type\n",
    "A = range(10)\n",
    "A"
   ]
  },
  {
   "cell_type": "code",
   "execution_count": 135,
   "metadata": {},
   "outputs": [
    {
     "name": "stdout",
     "output_type": "stream",
     "text": [
      "hey\n",
      "hey\n",
      "hey\n"
     ]
    }
   ],
   "source": [
    "#For loop (the easier way)\n",
    "\n",
    "for i in range(3):\n",
    "    print('hey')"
   ]
  },
  {
   "cell_type": "code",
   "execution_count": 162,
   "metadata": {},
   "outputs": [
    {
     "name": "stdout",
     "output_type": "stream",
     "text": [
      "4\n",
      "5\n",
      "6\n"
     ]
    }
   ],
   "source": [
    "for i in range(4,7):\n",
    "    print(i)"
   ]
  },
  {
   "cell_type": "code",
   "execution_count": 139,
   "metadata": {},
   "outputs": [
    {
     "name": "stdout",
     "output_type": "stream",
     "text": [
      "Na\n",
      "Na\n",
      "Na\n",
      "Na\n",
      "Na\n",
      "Batman!\n"
     ]
    }
   ],
   "source": [
    "#While Loop\n",
    "a = 5\n",
    "\n",
    "while(a > 0):\n",
    "    print('Na')\n",
    "    #a -= 1\n",
    "\n",
    "print('Batman!')"
   ]
  },
  {
   "cell_type": "markdown",
   "metadata": {},
   "source": [
    "### EXERCISE: Mixing it up together!\n",
    "Problem: Given a list of integers, find all even elements and store in a separate list in order.\n",
    "\n",
    "Example: <br>\n",
    "Given X = [2,6,3,4,5,7,8] <br>\n",
    "Output Y = [2,6,4,8]"
   ]
  },
  {
   "cell_type": "code",
   "execution_count": 151,
   "metadata": {},
   "outputs": [
    {
     "name": "stdout",
     "output_type": "stream",
     "text": [
      "[2, 4, 6, 8, 10]\n"
     ]
    }
   ],
   "source": [
    "X = [1,2,3,4,5,6,7,8,9,10]\n",
    "Y = []\n",
    "\n",
    "#===SAMPLE=====\n",
    "\n",
    "#==============\n",
    "        \n",
    "print(Y)"
   ]
  },
  {
   "cell_type": "markdown",
   "metadata": {},
   "source": [
    "Problem: Given two integers in the closed interval [0, 100] where A > B, Create a list containing all the integers between those two arranged in ascending order.\n",
    "\n",
    "Example: <br>\n",
    "Given A = 32, B = 15 <br>\n",
    "Output Y = [16, 17, 18, 19, 20, 21, 22, 23, 24, 25, 26, 27, 28, 29, 30, 31] <br>"
   ]
  },
  {
   "cell_type": "code",
   "execution_count": null,
   "metadata": {},
   "outputs": [],
   "source": [
    "A = 75\n",
    "B = 69\n",
    "\n",
    "#===SAMPLE=====\n",
    "\n",
    "#==============\n",
    "\n",
    "print(Y)"
   ]
  },
  {
   "cell_type": "markdown",
   "metadata": {},
   "source": [
    "## Part 4: Functions\n",
    "A function is a block of code which takes in inputs (arguments or ags) and gives outputs based on the functions logic. It is only runs when it is called.\n",
    "\n",
    "![](https://i.ibb.co/WvX78Yt/Function.jpg)"
   ]
  },
  {
   "cell_type": "code",
   "execution_count": 169,
   "metadata": {},
   "outputs": [],
   "source": [
    "#PYTHON FUNCTION SYNTAX\n",
    "\n",
    "def function_name(args):\n",
    "    \n",
    "    \"\"\"\n",
    "    This is a docstring.\n",
    "    A docstring is the series of comments we place at the beginning of the code inside a function\n",
    "    to help people understand what the function does.\n",
    "    \n",
    "    This is not required when making functions\n",
    "    \"\"\"\n",
    "\n",
    "    #code here\n",
    "    #code here\n",
    "    #code here\n",
    "    \n",
    "    return output1, output2, ...\n",
    "\n",
    "#How to use a function:\n",
    "\n",
    "a, b, ... = function_name(value)"
   ]
  },
  {
   "cell_type": "code",
   "execution_count": 195,
   "metadata": {},
   "outputs": [],
   "source": [
    "#Example: a function that takes the sum of all the elements inside an array\n",
    "\n",
    "def sum_array(array):\n",
    "    \n",
    "    \"\"\"\n",
    "    Sums all of the elements inside an array.\n",
    "    \n",
    "    args:\n",
    "        array - the array to be summed\n",
    "    outputs:\n",
    "        out - sum (integer)\n",
    "        \n",
    "    \"\"\"\n",
    "    \n",
    "    out = 0\n",
    "    for i in array:\n",
    "        out += i\n",
    "        \n",
    "    return out"
   ]
  },
  {
   "cell_type": "code",
   "execution_count": 174,
   "metadata": {},
   "outputs": [
    {
     "data": {
      "text/plain": [
       "15"
      ]
     },
     "execution_count": 174,
     "metadata": {},
     "output_type": "execute_result"
    }
   ],
   "source": [
    "#Testing sum_array\n",
    "a = sum_array([1,2,3,4,5])\n",
    "a"
   ]
  },
  {
   "cell_type": "code",
   "execution_count": 175,
   "metadata": {},
   "outputs": [],
   "source": [
    "#Example: a function that takes in an array of integers \n",
    "#and outputs an array containing all even numbers and another containing all odd numbers\n",
    "\n",
    "def split_even_odd(array):\n",
    "    even = []\n",
    "    odd = []\n",
    "    \n",
    "    for i in array:\n",
    "        if i % 2 == 0:\n",
    "            even.append(i)\n",
    "        else:\n",
    "            odd.append(i)\n",
    "            \n",
    "    return even, odd"
   ]
  },
  {
   "cell_type": "code",
   "execution_count": 176,
   "metadata": {},
   "outputs": [
    {
     "name": "stdout",
     "output_type": "stream",
     "text": [
      "All Even Values: [2, 6, 6, 2, 2]\n",
      "All Odd Values: [3, 9, 3, 5, 7]\n"
     ]
    }
   ],
   "source": [
    "a, b = split_even_odd([2,6,3,6,9,2,3,5,7,2])\n",
    "print('All Even Values: ' + str(a))\n",
    "print('All Odd Values: ' + str(b))"
   ]
  },
  {
   "cell_type": "code",
   "execution_count": 182,
   "metadata": {},
   "outputs": [],
   "source": [
    "c = split_even_odd([1,2,3,4,5])"
   ]
  },
  {
   "cell_type": "markdown",
   "metadata": {},
   "source": [
    "## ASSIGNMENT: Applying everything we learned"
   ]
  },
  {
   "cell_type": "markdown",
   "metadata": {},
   "source": [
    "ASSIGNMENT # 2:\n",
    "Create a function that takes an array of any length and outputs the MEAN, MEDIAN, and MODE of that array. <br>\n",
    "* Mean: Average of all elements\n",
    "* Median: Middle value when sorted in ascending order. For even arrays, get the average of the two middle values\n",
    "* Mode: Most frequently occurring element.\n",
    "\n",
    "Example: <br>\n",
    "Input: 1,2,2,3,4,6 <br>\n",
    "Mean: 3 <br>\n",
    "Median: 2.5 <br>\n",
    "Mode: 2 <br>"
   ]
  },
  {
   "cell_type": "markdown",
   "metadata": {},
   "source": [
    "ASSIGNMENT # 3: Create a function that takes an integer input, and then prints a (-90-deg rotated) triangle of '1s' with a height equal to the input. <br>\n",
    "\n",
    "Example: <br>\n",
    "Input: 5 <br>\n",
    "Output: <br>\n",
    "1 <br>\n",
    "1 1 <br>\n",
    "1 1 1 <br>\n",
    "1 1 1 1 <br>\n",
    "1 1 1 1 1 <br>\n",
    "1 1 1 1 <br>\n",
    "1 1 1 <br>\n",
    "1 1 <br>\n",
    "1 <br>"
   ]
  },
  {
   "cell_type": "code",
   "execution_count": null,
   "metadata": {},
   "outputs": [],
   "source": []
  }
 ],
 "metadata": {
  "kernelspec": {
   "display_name": "Python 3",
   "language": "python",
   "name": "python3"
  },
  "language_info": {
   "codemirror_mode": {
    "name": "ipython",
    "version": 3
   },
   "file_extension": ".py",
   "mimetype": "text/x-python",
   "name": "python",
   "nbconvert_exporter": "python",
   "pygments_lexer": "ipython3",
   "version": "3.7.3"
  },
  "toc": {
   "base_numbering": 1,
   "nav_menu": {},
   "number_sections": true,
   "sideBar": true,
   "skip_h1_title": false,
   "title_cell": "Table of Contents",
   "title_sidebar": "Contents",
   "toc_cell": false,
   "toc_position": {
    "height": "calc(100% - 180px)",
    "left": "10px",
    "top": "150px",
    "width": "349.091px"
   },
   "toc_section_display": true,
   "toc_window_display": false
  },
  "varInspector": {
   "cols": {
    "lenName": 16,
    "lenType": 16,
    "lenVar": 40
   },
   "kernels_config": {
    "python": {
     "delete_cmd_postfix": "",
     "delete_cmd_prefix": "del ",
     "library": "var_list.py",
     "varRefreshCmd": "print(var_dic_list())"
    },
    "r": {
     "delete_cmd_postfix": ") ",
     "delete_cmd_prefix": "rm(",
     "library": "var_list.r",
     "varRefreshCmd": "cat(var_dic_list()) "
    }
   },
   "types_to_exclude": [
    "module",
    "function",
    "builtin_function_or_method",
    "instance",
    "_Feature"
   ],
   "window_display": false
  }
 },
 "nbformat": 4,
 "nbformat_minor": 2
}
