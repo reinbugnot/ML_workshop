{
 "cells": [
  {
   "cell_type": "markdown",
   "metadata": {},
   "source": [
    "# Data Analysis using Python (Module 2)\n",
    "\n",
    "2nd part of the 3-part Machine Learning using Python Series (From Absolute beginner to Intermediate level)\n",
    "\n",
    "For more information: <br>\n",
    "https://github.com/reinbugnot?tab=repositories"
   ]
  },
  {
   "cell_type": "code",
   "execution_count": 84,
   "metadata": {},
   "outputs": [],
   "source": [
    "import numpy as np"
   ]
  },
  {
   "cell_type": "markdown",
   "metadata": {},
   "source": [
    "**What does importing mean?** <br>\n",
    "Importing allows us to access and use publicly available packages, classes, functions, and codes (called 'modules') so that we don't have to manually code these things ourselves. <br> <br>\n",
    "\n",
    "Example: <br>\n",
    "**import** <span style=\"color:blue\"> name of module </span> **as** <span style=\"color:green\"> nickname </span> <br> <br>\n",
    "Note: There are certain standard conventions for nicknaming packages.\n",
    "\n",
    "**What is numpy for?** <br>\n",
    "NumPy is the fundamental package for scientific computing in Python. It contains multi-dimensional array and matrix data structures as well as access to a number of mathematical operations on arrays such as trigonometric, statistical, and algebraic routines."
   ]
  },
  {
   "cell_type": "markdown",
   "metadata": {
    "heading_collapsed": true
   },
   "source": [
    "## Creating Numpy Arrays (A.K.A. Python Matrices)\n",
    "This section will teach you how to create numpy arrays."
   ]
  },
  {
   "cell_type": "markdown",
   "metadata": {
    "hidden": true
   },
   "source": [
    "**What are numpy arrays?**\n",
    "\n",
    "![](https://miro.medium.com/max/817/0*y04Nh3L0aSwyGaby.png)"
   ]
  },
  {
   "cell_type": "markdown",
   "metadata": {
    "heading_collapsed": true,
    "hidden": true
   },
   "source": [
    "### Numpy array function"
   ]
  },
  {
   "cell_type": "code",
   "execution_count": 41,
   "metadata": {
    "hidden": true
   },
   "outputs": [],
   "source": [
    "#Numpy Arrays - SHIFT+TAB to view documentation\n",
    "ONE_DIM = np.array([1,5])\n",
    "TWO_DIM = np.array([[1,2,3], [4,5,6]])"
   ]
  },
  {
   "cell_type": "code",
   "execution_count": 42,
   "metadata": {
    "hidden": true
   },
   "outputs": [
    {
     "name": "stdout",
     "output_type": "stream",
     "text": [
      "1D numpy array: \n",
      "[1 5]\n",
      "\n",
      "2D numpy array: \n",
      "[[1 2 3]\n",
      " [4 5 6]]\n"
     ]
    }
   ],
   "source": [
    "print(\"1D numpy array: \")\n",
    "print(ONE_DIM)\n",
    "print(\"\\n2D numpy array: \")\n",
    "print(TWO_DIM)"
   ]
  },
  {
   "cell_type": "code",
   "execution_count": 65,
   "metadata": {
    "hidden": true
   },
   "outputs": [
    {
     "name": "stdout",
     "output_type": "stream",
     "text": [
      "[3. 5. 5.]\n"
     ]
    }
   ],
   "source": [
    "#Specify data type (dtype)\n",
    "sample_array = np.array([3,5,5], dtype=float)\n",
    "print(sample_array)"
   ]
  },
  {
   "cell_type": "markdown",
   "metadata": {
    "heading_collapsed": true,
    "hidden": true
   },
   "source": [
    "### Numpy array from lists"
   ]
  },
  {
   "cell_type": "code",
   "execution_count": 43,
   "metadata": {
    "hidden": true
   },
   "outputs": [
    {
     "data": {
      "text/plain": [
       "type"
      ]
     },
     "execution_count": 43,
     "metadata": {},
     "output_type": "execute_result"
    }
   ],
   "source": [
    "sample_list = [1,2,3,4,5]\n",
    "type(list)"
   ]
  },
  {
   "cell_type": "code",
   "execution_count": 44,
   "metadata": {
    "hidden": true
   },
   "outputs": [
    {
     "data": {
      "text/plain": [
       "numpy.ndarray"
      ]
     },
     "execution_count": 44,
     "metadata": {},
     "output_type": "execute_result"
    }
   ],
   "source": [
    "#Numpy Arrays from Lists\n",
    "array_from_list = np.array(sample_list)\n",
    "type(array_from_list)"
   ]
  },
  {
   "cell_type": "code",
   "execution_count": 63,
   "metadata": {
    "hidden": true
   },
   "outputs": [
    {
     "name": "stdout",
     "output_type": "stream",
     "text": [
      "[1 2 3 4 5]\n"
     ]
    }
   ],
   "source": [
    "print(array_from_list)"
   ]
  },
  {
   "cell_type": "markdown",
   "metadata": {
    "heading_collapsed": true,
    "hidden": true
   },
   "source": [
    "### Numpy array from random values"
   ]
  },
  {
   "cell_type": "code",
   "execution_count": 53,
   "metadata": {
    "hidden": true
   },
   "outputs": [
    {
     "name": "stdout",
     "output_type": "stream",
     "text": [
      "Random numpy array (integer): \n",
      "[[55  6 41 79]\n",
      " [ 4 66 98 30]\n",
      " [ 3 95 52 49]]\n",
      "\n",
      "Random numpy array (normal dist): \n",
      "[[-0.4459164   0.00213397 -0.86744025 -1.04420968]\n",
      " [ 0.65034712 -0.66254828  1.02963798  0.81281424]\n",
      " [-2.07467884 -1.42338964  1.55895458 -1.04665154]\n",
      " [-0.59005658  0.1163195   0.62163269  1.15399236]\n",
      " [ 0.25429816 -1.15503212  0.68342316  0.72000978]]\n"
     ]
    }
   ],
   "source": [
    "#Numpy array from random\n",
    "\n",
    "#random integer\n",
    "A = np.random.randint(1,100, size=((3,4)))\n",
    "\n",
    "#random normal distribution\n",
    "B = np.random.randn(5,4)\n",
    "\n",
    "print(\"Random numpy array (integer): \")\n",
    "print(A)\n",
    "print(\"\\nRandom numpy array (normal dist): \")\n",
    "print(B)"
   ]
  },
  {
   "cell_type": "markdown",
   "metadata": {
    "heading_collapsed": true,
    "hidden": true
   },
   "source": [
    "### Numpy array from placeholders"
   ]
  },
  {
   "cell_type": "code",
   "execution_count": 67,
   "metadata": {
    "hidden": true
   },
   "outputs": [
    {
     "data": {
      "text/plain": [
       "array([[[1., 1., 1., 1.],\n",
       "        [1., 1., 1., 1.],\n",
       "        [1., 1., 1., 1.]],\n",
       "\n",
       "       [[1., 1., 1., 1.],\n",
       "        [1., 1., 1., 1.],\n",
       "        [1., 1., 1., 1.]]])"
      ]
     },
     "execution_count": 67,
     "metadata": {},
     "output_type": "execute_result"
    }
   ],
   "source": [
    "#Create an array of ones\n",
    "np.ones((2,3,4))"
   ]
  },
  {
   "cell_type": "code",
   "execution_count": 69,
   "metadata": {
    "hidden": true
   },
   "outputs": [
    {
     "data": {
      "text/plain": [
       "array([[0., 0., 0., 0., 0.],\n",
       "       [0., 0., 0., 0., 0.],\n",
       "       [0., 0., 0., 0., 0.],\n",
       "       [0., 0., 0., 0., 0.]])"
      ]
     },
     "execution_count": 69,
     "metadata": {},
     "output_type": "execute_result"
    }
   ],
   "source": [
    "#Create an array of zeros\n",
    "np.zeros((4,5))"
   ]
  },
  {
   "cell_type": "code",
   "execution_count": 107,
   "metadata": {
    "hidden": true
   },
   "outputs": [
    {
     "data": {
      "text/plain": [
       "array([[[5., 5., 5., 5.],\n",
       "        [5., 5., 5., 5.],\n",
       "        [5., 5., 5., 5.]],\n",
       "\n",
       "       [[5., 5., 5., 5.],\n",
       "        [5., 5., 5., 5.],\n",
       "        [5., 5., 5., 5.]]])"
      ]
     },
     "execution_count": 107,
     "metadata": {},
     "output_type": "execute_result"
    }
   ],
   "source": [
    "#Create a contant array\n",
    "np.ones((2,3,4)) * 5"
   ]
  },
  {
   "cell_type": "code",
   "execution_count": 106,
   "metadata": {
    "hidden": true
   },
   "outputs": [
    {
     "name": "stdout",
     "output_type": "stream",
     "text": [
      "[0 1 2 3 4]\n",
      "[ 0  4  8 12 16]\n"
     ]
    }
   ],
   "source": [
    "#Create an array of evenly spaced values given STEP VALUE\n",
    "print(np.arange(5)) #used for quickly making an array of increasing integers\n",
    "print(np.arange(0,20,4))"
   ]
  },
  {
   "cell_type": "code",
   "execution_count": 105,
   "metadata": {
    "hidden": true
   },
   "outputs": [
    {
     "name": "stdout",
     "output_type": "stream",
     "text": [
      "[1.  1.5 2.  2.5 3.  3.5 4.  4.5 5. ]\n"
     ]
    }
   ],
   "source": [
    "#Create an array of evenly spaced values given NUMBER OF SAMPLES\n",
    "print(np.linspace(1,5,9))"
   ]
  },
  {
   "cell_type": "code",
   "execution_count": 108,
   "metadata": {
    "hidden": true
   },
   "outputs": [
    {
     "data": {
      "text/plain": [
       "array([[1., 0., 0., 0., 0.],\n",
       "       [0., 1., 0., 0., 0.],\n",
       "       [0., 0., 1., 0., 0.],\n",
       "       [0., 0., 0., 1., 0.],\n",
       "       [0., 0., 0., 0., 1.]])"
      ]
     },
     "execution_count": 108,
     "metadata": {},
     "output_type": "execute_result"
    }
   ],
   "source": [
    "#Create an identity matrix\n",
    "np.eye(5)"
   ]
  },
  {
   "cell_type": "markdown",
   "metadata": {
    "heading_collapsed": true,
    "hidden": true
   },
   "source": [
    "### Numpy array from imported CSV"
   ]
  },
  {
   "cell_type": "code",
   "execution_count": 62,
   "metadata": {
    "hidden": true
   },
   "outputs": [
    {
     "name": "stdout",
     "output_type": "stream",
     "text": [
      "Shape of loaded data: (57000, 2)\n"
     ]
    },
    {
     "data": {
      "text/plain": [
       "array([[2.0000e-03, 4.0591e+01],\n",
       "       [2.0000e-03, 3.8582e+01],\n",
       "       [2.0000e-03, 3.6329e+01],\n",
       "       ...,\n",
       "       [4.6000e-02, 4.8170e+01],\n",
       "       [3.9000e-02, 4.6191e+01],\n",
       "       [3.1000e-02, 4.4243e+01]])"
      ]
     },
     "execution_count": 62,
     "metadata": {},
     "output_type": "execute_result"
    }
   ],
   "source": [
    "#Load csv data using numpy\n",
    "data = np.genfromtxt('./sample_series.csv', delimiter=',')\n",
    "print('Shape of loaded data: ' + str(data.shape))\n",
    "data"
   ]
  },
  {
   "cell_type": "markdown",
   "metadata": {
    "heading_collapsed": true,
    "hidden": true
   },
   "source": [
    "### Saving Numpy arrays to CSV"
   ]
  },
  {
   "cell_type": "code",
   "execution_count": 109,
   "metadata": {
    "hidden": true
   },
   "outputs": [],
   "source": [
    "sample = [[1,2], [3,4], [5,6]]\n",
    "np.savetxt('sample_save.csv', sample, delimiter=\",\")"
   ]
  },
  {
   "cell_type": "markdown",
   "metadata": {
    "heading_collapsed": true
   },
   "source": [
    "## Array Inspection\n",
    "This section will teach you how to observe the basic characteristics of numpy arrays"
   ]
  },
  {
   "cell_type": "code",
   "execution_count": 111,
   "metadata": {
    "hidden": true
   },
   "outputs": [],
   "source": [
    "A = np.random.randint(100, size=[6,10])"
   ]
  },
  {
   "cell_type": "markdown",
   "metadata": {
    "hidden": true
   },
   "source": [
    "### Shape, Length, Size"
   ]
  },
  {
   "cell_type": "code",
   "execution_count": 112,
   "metadata": {
    "hidden": true
   },
   "outputs": [
    {
     "data": {
      "text/plain": [
       "(6, 10)"
      ]
     },
     "execution_count": 112,
     "metadata": {},
     "output_type": "execute_result"
    }
   ],
   "source": [
    "#Shape of array (dimensions)\n",
    "A.shape"
   ]
  },
  {
   "cell_type": "code",
   "execution_count": 113,
   "metadata": {
    "hidden": true
   },
   "outputs": [
    {
     "data": {
      "text/plain": [
       "6"
      ]
     },
     "execution_count": 113,
     "metadata": {},
     "output_type": "execute_result"
    }
   ],
   "source": [
    "#Length of array\n",
    "len(A)"
   ]
  },
  {
   "cell_type": "code",
   "execution_count": 115,
   "metadata": {
    "hidden": true
   },
   "outputs": [
    {
     "data": {
      "text/plain": [
       "2"
      ]
     },
     "execution_count": 115,
     "metadata": {},
     "output_type": "execute_result"
    }
   ],
   "source": [
    "#Number of array dimensions\n",
    "A.ndim \n",
    "\n",
    "#or, alternatively"
   ]
  },
  {
   "cell_type": "code",
   "execution_count": 117,
   "metadata": {
    "hidden": true
   },
   "outputs": [
    {
     "data": {
      "text/plain": [
       "60"
      ]
     },
     "execution_count": 117,
     "metadata": {},
     "output_type": "execute_result"
    }
   ],
   "source": [
    "#Number of array elements\n",
    "A.size \n",
    "\n",
    "#or, alternatively"
   ]
  },
  {
   "cell_type": "markdown",
   "metadata": {
    "hidden": true
   },
   "source": [
    "### Data Types and Type-Casting"
   ]
  },
  {
   "cell_type": "code",
   "execution_count": 122,
   "metadata": {
    "hidden": true
   },
   "outputs": [
    {
     "data": {
      "text/plain": [
       "'int32'"
      ]
     },
     "execution_count": 122,
     "metadata": {},
     "output_type": "execute_result"
    }
   ],
   "source": [
    "#Check data type\n",
    "A.dtype.name"
   ]
  },
  {
   "cell_type": "code",
   "execution_count": 121,
   "metadata": {
    "hidden": true
   },
   "outputs": [
    {
     "data": {
      "text/plain": [
       "'float64'"
      ]
     },
     "execution_count": 121,
     "metadata": {},
     "output_type": "execute_result"
    }
   ],
   "source": [
    "#Type-casting an array (Converting to another type)\n",
    "B = A.astype(float)\n",
    "B.dtype.name"
   ]
  },
  {
   "cell_type": "markdown",
   "metadata": {
    "heading_collapsed": true
   },
   "source": [
    "## Data Slicing\n",
    "This section will teach you how to extract values or parts of a numpy array"
   ]
  },
  {
   "cell_type": "markdown",
   "metadata": {
    "hidden": true
   },
   "source": [
    "A <span style=\"color:blue\"> **slice** </span> in a multidimensional array is a column of data corresponding to a single value for one or more members of the dimension. <br> <span style=\"color:orange\"> **Slicing** </span> is the act of dividing up the cube to extract this information for a given slice."
   ]
  },
  {
   "cell_type": "code",
   "execution_count": 8,
   "metadata": {
    "hidden": true
   },
   "outputs": [],
   "source": [
    "#These will be our test arrays\n",
    "test_1d = np.random.randint(20, size=(7))\n",
    "test_2d = np.random.randint(20, size=(4,6))\n",
    "test_3d = np.random.randint(20, size=(5,8,3))"
   ]
  },
  {
   "cell_type": "markdown",
   "metadata": {
    "heading_collapsed": true,
    "hidden": true
   },
   "source": [
    "### Slicing 1D Arrays"
   ]
  },
  {
   "cell_type": "code",
   "execution_count": 38,
   "metadata": {
    "hidden": true
   },
   "outputs": [
    {
     "name": "stdout",
     "output_type": "stream",
     "text": [
      "Sample 1D Array:\n",
      "[ 2  4  7 12  0  1 18]\n"
     ]
    }
   ],
   "source": [
    "print(\"Sample 1D Array:\")\n",
    "print(test_1d)"
   ]
  },
  {
   "cell_type": "markdown",
   "metadata": {
    "hidden": true
   },
   "source": [
    "**Question:** What is the index of the 3rd element? <br>"
   ]
  },
  {
   "cell_type": "markdown",
   "metadata": {
    "hidden": true
   },
   "source": [
    "**Regular Subsetting**"
   ]
  },
  {
   "cell_type": "code",
   "execution_count": 39,
   "metadata": {
    "hidden": true
   },
   "outputs": [
    {
     "data": {
      "text/plain": [
       "1"
      ]
     },
     "execution_count": 39,
     "metadata": {},
     "output_type": "execute_result"
    }
   ],
   "source": [
    "#Extract the element at index 5\n",
    "test_1d[5]"
   ]
  },
  {
   "cell_type": "markdown",
   "metadata": {
    "hidden": true
   },
   "source": [
    "**Regular Slicing**"
   ]
  },
  {
   "cell_type": "code",
   "execution_count": 11,
   "metadata": {
    "hidden": true
   },
   "outputs": [
    {
     "data": {
      "text/plain": [
       "array([ 2,  4,  7, 12,  0])"
      ]
     },
     "execution_count": 11,
     "metadata": {},
     "output_type": "execute_result"
    }
   ],
   "source": [
    "#Extract all elements BEFORE the index 5 (to the left of 5)\n",
    "test_1d[:5]"
   ]
  },
  {
   "cell_type": "code",
   "execution_count": 14,
   "metadata": {
    "hidden": true
   },
   "outputs": [
    {
     "data": {
      "text/plain": [
       "array([ 1, 18])"
      ]
     },
     "execution_count": 14,
     "metadata": {},
     "output_type": "execute_result"
    }
   ],
   "source": [
    "#Extract the elements indexed from 5 onwards (to the right, inclusive)\n",
    "test_1d[5:]"
   ]
  },
  {
   "cell_type": "markdown",
   "metadata": {
    "hidden": true
   },
   "source": [
    "**Reverse Subsetting**"
   ]
  },
  {
   "cell_type": "code",
   "execution_count": 40,
   "metadata": {
    "hidden": true
   },
   "outputs": [
    {
     "data": {
      "text/plain": [
       "0"
      ]
     },
     "execution_count": 40,
     "metadata": {},
     "output_type": "execute_result"
    }
   ],
   "source": [
    "#Extract the element at index -3\n",
    "test_1d[-3]"
   ]
  },
  {
   "cell_type": "markdown",
   "metadata": {
    "hidden": true
   },
   "source": [
    "**Reverse Slicing**"
   ]
  },
  {
   "cell_type": "code",
   "execution_count": 20,
   "metadata": {
    "hidden": true
   },
   "outputs": [
    {
     "data": {
      "text/plain": [
       "array([ 2,  4,  7, 12])"
      ]
     },
     "execution_count": 20,
     "metadata": {},
     "output_type": "execute_result"
    }
   ],
   "source": [
    "#Extract all elements AFTER the index -3 (to the left of -3)\n",
    "test_1d[:-3]"
   ]
  },
  {
   "cell_type": "code",
   "execution_count": 19,
   "metadata": {
    "hidden": true
   },
   "outputs": [
    {
     "data": {
      "text/plain": [
       "array([ 0,  1, 18])"
      ]
     },
     "execution_count": 19,
     "metadata": {},
     "output_type": "execute_result"
    }
   ],
   "source": [
    "#Extract the elements indexed from -3 onwards (to the right, inclusive)\n",
    "test_1d[-3:]"
   ]
  },
  {
   "cell_type": "markdown",
   "metadata": {
    "hidden": true
   },
   "source": [
    "**Question:** What does the ':' do and how does its position in the notation have to do with the output slice?"
   ]
  },
  {
   "cell_type": "markdown",
   "metadata": {
    "hidden": true
   },
   "source": [
    "**Compound Slicing**"
   ]
  },
  {
   "cell_type": "code",
   "execution_count": 34,
   "metadata": {
    "hidden": true
   },
   "outputs": [
    {
     "name": "stdout",
     "output_type": "stream",
     "text": [
      "Sample 1D Array:\n",
      "[ 2  4  7 12  0  1 18]\n"
     ]
    }
   ],
   "source": [
    "#Printing again so we don't have to scroll up\n",
    "print(\"Sample 1D Array:\")\n",
    "print(test_1d)"
   ]
  },
  {
   "cell_type": "code",
   "execution_count": 42,
   "metadata": {
    "hidden": true
   },
   "outputs": [
    {
     "data": {
      "text/plain": [
       "array([12,  0,  1])"
      ]
     },
     "execution_count": 42,
     "metadata": {},
     "output_type": "execute_result"
    }
   ],
   "source": [
    "#Extract all elements index from A onwards and BEFORE the index B (to the right of A, inclusive, AND to the left of B)\n",
    "A = 3\n",
    "B = 6\n",
    "\n",
    "test_1d[A:B]"
   ]
  },
  {
   "cell_type": "markdown",
   "metadata": {
    "hidden": true
   },
   "source": [
    "**Compoung Indexing**"
   ]
  },
  {
   "cell_type": "code",
   "execution_count": 55,
   "metadata": {
    "hidden": true
   },
   "outputs": [
    {
     "data": {
      "text/plain": [
       "array([ 2,  7,  1, 18])"
      ]
     },
     "execution_count": 55,
     "metadata": {},
     "output_type": "execute_result"
    }
   ],
   "source": [
    "#To extract multiple elements using their index (without slicing), place a LIST inside the index brackets\n",
    "\n",
    "indices = [0,2,5,6]\n",
    "test_1d[indices] \n",
    "\n",
    "#or test_1d[[0,2,5,6]]"
   ]
  },
  {
   "cell_type": "markdown",
   "metadata": {
    "heading_collapsed": true,
    "hidden": true
   },
   "source": [
    "### Exercise: Slicing 1D Arrays"
   ]
  },
  {
   "cell_type": "code",
   "execution_count": 50,
   "metadata": {
    "hidden": true
   },
   "outputs": [
    {
     "name": "stdout",
     "output_type": "stream",
     "text": [
      "[49  1  5 20 28  9  7  9 24 17]\n"
     ]
    }
   ],
   "source": [
    "exercise_1d = np.random.randint(50, size=(10))\n",
    "print(exercise_1d)"
   ]
  },
  {
   "cell_type": "code",
   "execution_count": null,
   "metadata": {
    "hidden": true
   },
   "outputs": [],
   "source": [
    "#Predict the output of the following prints:\n",
    "\n",
    "print(exercise_1d[4])\n",
    "\n",
    "print(exercise_1d[-1])\n",
    "\n",
    "print(exercise_1d[:6])\n",
    "\n",
    "print(exercise_1d[:-4])\n",
    "\n",
    "print(exercise_1d[-2:])\n",
    "\n",
    "print(exercise_1d[2:5])\n",
    "\n",
    "print(exercise_1d[3:-3])\n",
    "\n",
    "print(exercise_1d[-1:])\n",
    "\n",
    "print(exercise_1d[[0,2,4]])"
   ]
  },
  {
   "cell_type": "code",
   "execution_count": null,
   "metadata": {
    "hidden": true
   },
   "outputs": [],
   "source": [
    "#Extract the required elements from the array\n",
    "\n",
    "# [17]\n",
    "print()\n",
    "\n",
    "# [49, 1, 5, 20]\n",
    "print()\n",
    "\n",
    "# [9, 24, 17]\n",
    "print()\n",
    "\n",
    "# [20, 28, 29, 7]\n",
    "print()\n",
    "\n",
    "# [49, 5, 28, 17]\n",
    "print()"
   ]
  },
  {
   "cell_type": "markdown",
   "metadata": {
    "hidden": true
   },
   "source": [
    "**CONGRATULATIONS!** Mastering 1D array indexing and slicing is already half of the work. See if you can apply these to higher dimensional arrays."
   ]
  },
  {
   "cell_type": "markdown",
   "metadata": {
    "heading_collapsed": true,
    "hidden": true
   },
   "source": [
    "### Slicing Higher Dimensional Arrays"
   ]
  },
  {
   "cell_type": "markdown",
   "metadata": {
    "hidden": true
   },
   "source": [
    "<img src=https://www.oreilly.com/library/view/python-for-data/9781449323592/httpatomoreillycomsourceoreillyimages2172112.png width=\"300\">"
   ]
  },
  {
   "cell_type": "code",
   "execution_count": 56,
   "metadata": {
    "hidden": true
   },
   "outputs": [
    {
     "name": "stdout",
     "output_type": "stream",
     "text": [
      "Sample 2D Array:\n",
      "[[ 1 13  4 11 19 19]\n",
      " [ 7 11 15  1 19 13]\n",
      " [12 13  2  2  2  5]\n",
      " [19 10  2 12 19  5]]\n"
     ]
    }
   ],
   "source": [
    "print(\"Sample 2D Array:\")\n",
    "print(test_2d)"
   ]
  },
  {
   "cell_type": "markdown",
   "metadata": {
    "hidden": true
   },
   "source": [
    "2D Indexing Syntax: **array[**<span style=\"color:blue\"> **row** </span>, <span style=\"color:green\"> **column** </span> **]** <br> <br>\n",
    "\n",
    "Actually, <span style=\"color:blue\"> **row** </span> and <span style=\"color:green\"> **column** </span> are arbitrary labels in the perspective of the Python code. A more accurate representation of indexing would be: <br> <br>\n",
    "\n",
    "2D Indexing Syntax: **array[**<span style=\"color:blue\"> **axis = 0** </span>, <span style=\"color:green\"> **axis = 1** </span> **]** <br>\n",
    "3D Indexing Syntax: **array[**<span style=\"color:blue\"> **axis = 0** </span>, <span style=\"color:green\"> **axis = 1** </span>, <span style=\"color:orange\"> **axis = 3** </span> **]**"
   ]
  },
  {
   "cell_type": "markdown",
   "metadata": {
    "hidden": true
   },
   "source": [
    "**Elements**"
   ]
  },
  {
   "cell_type": "code",
   "execution_count": 68,
   "metadata": {
    "hidden": true
   },
   "outputs": [
    {
     "data": {
      "text/plain": [
       "15"
      ]
     },
     "execution_count": 68,
     "metadata": {},
     "output_type": "execute_result"
    }
   ],
   "source": [
    "#Extract the element at the row index 1 and column index 2\n",
    "test_2d[1,2]"
   ]
  },
  {
   "cell_type": "markdown",
   "metadata": {
    "hidden": true
   },
   "source": [
    "**Rows and Columns**"
   ]
  },
  {
   "cell_type": "code",
   "execution_count": 67,
   "metadata": {
    "hidden": true
   },
   "outputs": [
    {
     "data": {
      "text/plain": [
       "array([ 1, 13,  4, 11, 19, 19])"
      ]
     },
     "execution_count": 67,
     "metadata": {},
     "output_type": "execute_result"
    }
   ],
   "source": [
    "#Extract the row index 0\n",
    "test_2d[0]"
   ]
  },
  {
   "cell_type": "code",
   "execution_count": 65,
   "metadata": {
    "hidden": true
   },
   "outputs": [
    {
     "data": {
      "text/plain": [
       "array([11,  1,  2, 12])"
      ]
     },
     "execution_count": 65,
     "metadata": {},
     "output_type": "execute_result"
    }
   ],
   "source": [
    "#Extract the column index 3\n",
    "test_2d[:, 3]"
   ]
  },
  {
   "cell_type": "code",
   "execution_count": 66,
   "metadata": {
    "hidden": true
   },
   "outputs": [
    {
     "data": {
      "text/plain": [
       "array([19, 10,  2, 12, 19,  5])"
      ]
     },
     "execution_count": 66,
     "metadata": {},
     "output_type": "execute_result"
    }
   ],
   "source": [
    "#Extract the last row\n",
    "test_2d[-1]"
   ]
  },
  {
   "cell_type": "markdown",
   "metadata": {
    "hidden": true
   },
   "source": [
    "**Higher Dimensional Grids and Segments**"
   ]
  },
  {
   "cell_type": "code",
   "execution_count": 70,
   "metadata": {
    "hidden": true
   },
   "outputs": [
    {
     "data": {
      "text/plain": [
       "array([[ 1, 13,  4],\n",
       "       [ 7, 11, 15],\n",
       "       [12, 13,  2]])"
      ]
     },
     "execution_count": 70,
     "metadata": {},
     "output_type": "execute_result"
    }
   ],
   "source": [
    "#Extract the top left 3x3 grid\n",
    "test_2d[:3, :3]"
   ]
  },
  {
   "cell_type": "code",
   "execution_count": 73,
   "metadata": {
    "hidden": true
   },
   "outputs": [
    {
     "data": {
      "text/plain": [
       "array([[11, 19, 19],\n",
       "       [ 1, 19, 13],\n",
       "       [ 2,  2,  5]])"
      ]
     },
     "execution_count": 73,
     "metadata": {},
     "output_type": "execute_result"
    }
   ],
   "source": [
    "#Extract column index 3 to 5, omit last row\n",
    "test_2d[:-1, 3:6]"
   ]
  },
  {
   "cell_type": "markdown",
   "metadata": {
    "hidden": true
   },
   "source": [
    "<img src=https://www.oreilly.com/library/view/python-for-data/9781449323592/httpatomoreillycomsourceoreillyimages2172114.png width=\"300\">"
   ]
  },
  {
   "cell_type": "markdown",
   "metadata": {
    "heading_collapsed": true,
    "hidden": true
   },
   "source": [
    "### Boolean Indexing"
   ]
  },
  {
   "cell_type": "code",
   "execution_count": 78,
   "metadata": {
    "hidden": true
   },
   "outputs": [
    {
     "name": "stdout",
     "output_type": "stream",
     "text": [
      "Sample 2D Array:\n",
      "[[ 1 13  4 11 19 19]\n",
      " [ 7 11 15  1 19 13]\n",
      " [12 13  2  2  2  5]\n",
      " [19 10  2 12 19  5]]\n"
     ]
    }
   ],
   "source": [
    "print(\"Sample 2D Array:\")\n",
    "print(test_2d)"
   ]
  },
  {
   "cell_type": "code",
   "execution_count": 80,
   "metadata": {
    "hidden": true
   },
   "outputs": [
    {
     "data": {
      "text/plain": [
       "array([[False, False,  True, False, False, False],\n",
       "       [False, False, False, False, False, False],\n",
       "       [ True, False,  True,  True,  True, False],\n",
       "       [False,  True,  True,  True, False, False]])"
      ]
     },
     "execution_count": 80,
     "metadata": {},
     "output_type": "execute_result"
    }
   ],
   "source": [
    "#You can use boolean logic to extract desired data based on certain conditional parameters\n",
    "\n",
    "#Observe the following lines:\n",
    "test_2d % 2 == 0"
   ]
  },
  {
   "cell_type": "code",
   "execution_count": 81,
   "metadata": {
    "hidden": true
   },
   "outputs": [
    {
     "data": {
      "text/plain": [
       "array([[False,  True, False,  True,  True,  True],\n",
       "       [False,  True,  True, False,  True,  True],\n",
       "       [ True,  True, False, False, False, False],\n",
       "       [ True, False, False,  True,  True, False]])"
      ]
     },
     "execution_count": 81,
     "metadata": {},
     "output_type": "execute_result"
    }
   ],
   "source": [
    "test_2d > 10"
   ]
  },
  {
   "cell_type": "code",
   "execution_count": 82,
   "metadata": {
    "hidden": true
   },
   "outputs": [
    {
     "data": {
      "text/plain": [
       "array([ 4, 12,  2,  2,  2, 10,  2, 12])"
      ]
     },
     "execution_count": 82,
     "metadata": {},
     "output_type": "execute_result"
    }
   ],
   "source": [
    "#Remember in Section 3.1 Compound indexing where we extracted elements based on a list of indices?\n",
    "#Turns out, we can use these boolean arrays to extract the desired elements!\n",
    "\n",
    "even_vals = test_2d[test_2d % 2 == 0]\n",
    "even_vals"
   ]
  },
  {
   "cell_type": "code",
   "execution_count": 83,
   "metadata": {
    "hidden": true
   },
   "outputs": [
    {
     "data": {
      "text/plain": [
       "array([13, 11, 19, 19, 11, 15, 19, 13, 12, 13, 19, 12, 19])"
      ]
     },
     "execution_count": 83,
     "metadata": {},
     "output_type": "execute_result"
    }
   ],
   "source": [
    "vals_greater_than_10 = test_2d[test_2d > 10]\n",
    "vals_greater_than_10"
   ]
  },
  {
   "cell_type": "markdown",
   "metadata": {
    "heading_collapsed": true,
    "hidden": true
   },
   "source": [
    "### Exercise: Higher Dimensional Arrays"
   ]
  },
  {
   "cell_type": "code",
   "execution_count": 77,
   "metadata": {
    "hidden": true
   },
   "outputs": [
    {
     "name": "stdout",
     "output_type": "stream",
     "text": [
      "Given 2D Array: \n",
      "\n",
      "[[ 6 56 80 11 76 69]\n",
      " [29 90 88 79 17 83]\n",
      " [99 10 74 36 87  9]\n",
      " [42 63 53 90 15 41]]\n"
     ]
    }
   ],
   "source": [
    "exercise_2d = np.random.randint(100, size=[4,6])\n",
    "print(\"Given 2D Array: \\n\")\n",
    "print(exercise_2d)"
   ]
  },
  {
   "cell_type": "code",
   "execution_count": null,
   "metadata": {
    "hidden": true
   },
   "outputs": [],
   "source": [
    "#Generate the following outputs\n",
    "\n",
    "# [[29 90 88 79 17]\n",
    "#  [99 10 74 36 87]]\n",
    "\n",
    "print()\n",
    "\n",
    "# [[6 56]\n",
    "# [29, 90]\n",
    "# [99, 10]\n",
    "# [42 63]]\n",
    "\n",
    "print()\n",
    "\n",
    "# [76, 17, 87, 15]\n",
    "\n",
    "print()\n",
    "\n",
    "# List of all odd elements\n",
    "\n",
    "print()\n",
    "\n",
    "# List of all elements that start with '8'\n",
    "\n",
    "print()\n",
    "\n",
    "# List of all even elements in the last three rows\n",
    "\n",
    "print()"
   ]
  },
  {
   "cell_type": "markdown",
   "metadata": {
    "heading_collapsed": true
   },
   "source": [
    "## Array Arithmetic\n",
    "Basic calculations with array data"
   ]
  },
  {
   "cell_type": "markdown",
   "metadata": {
    "hidden": true
   },
   "source": [
    "**Basic Arithmetics**"
   ]
  },
  {
   "cell_type": "code",
   "execution_count": 143,
   "metadata": {
    "hidden": true
   },
   "outputs": [
    {
     "name": "stdout",
     "output_type": "stream",
     "text": [
      "A:\n",
      "[[1 2 3]\n",
      " [3 5 3]\n",
      " [2 1 4]]\n",
      "\n",
      "B:\n",
      "[[2 1 5]\n",
      " [4 1 5]\n",
      " [5 5 5]]\n"
     ]
    }
   ],
   "source": [
    "A = np.random.randint(1,6, size=[3,3])\n",
    "B = np.random.randint(1,6, size=[3,3])\n",
    "\n",
    "print(\"A:\")\n",
    "print(A)\n",
    "print(\"\\nB:\")\n",
    "print(B)"
   ]
  },
  {
   "cell_type": "code",
   "execution_count": 144,
   "metadata": {
    "hidden": true
   },
   "outputs": [
    {
     "name": "stdout",
     "output_type": "stream",
     "text": [
      "[[3 3 8]\n",
      " [7 6 8]\n",
      " [7 6 9]]\n",
      "\n",
      "[[-1  1 -2]\n",
      " [-1  4 -2]\n",
      " [-3 -4 -1]]\n",
      "\n",
      "[[ 2  2 15]\n",
      " [12  5 15]\n",
      " [10  5 20]]\n",
      "\n",
      "[[0.5  2.   0.6 ]\n",
      " [0.75 5.   0.6 ]\n",
      " [0.4  0.2  0.8 ]]\n"
     ]
    }
   ],
   "source": [
    "#Basic Arithmetics\n",
    "print(A+B) #or np.add\n",
    "print()\n",
    "print(A-B) #or np.subtract\n",
    "print()\n",
    "print(A*B) #or np.multiply\n",
    "print()\n",
    "print(A/B) #or np.divide"
   ]
  },
  {
   "cell_type": "code",
   "execution_count": 145,
   "metadata": {
    "hidden": true
   },
   "outputs": [
    {
     "data": {
      "text/plain": [
       "array([[25, 18, 30],\n",
       "       [41, 23, 55],\n",
       "       [28, 23, 35]])"
      ]
     },
     "execution_count": 145,
     "metadata": {},
     "output_type": "execute_result"
    }
   ],
   "source": [
    "#Dot Product / Matrix Multiplication\n",
    "np.dot(A,B)"
   ]
  },
  {
   "cell_type": "code",
   "execution_count": 146,
   "metadata": {
    "hidden": true
   },
   "outputs": [
    {
     "name": "stdout",
     "output_type": "stream",
     "text": [
      "2.718281828459045\n"
     ]
    },
    {
     "data": {
      "text/plain": [
       "array([[  7.3890561 ,   2.71828183, 148.4131591 ],\n",
       "       [ 54.59815003,   2.71828183, 148.4131591 ],\n",
       "       [148.4131591 , 148.4131591 , 148.4131591 ]])"
      ]
     },
     "execution_count": 146,
     "metadata": {},
     "output_type": "execute_result"
    }
   ],
   "source": [
    "#Math Functions\n",
    "print(np.exp(1))\n",
    "\n",
    "#Exponentiation\n",
    "np.exp(B)"
   ]
  },
  {
   "cell_type": "code",
   "execution_count": 147,
   "metadata": {
    "hidden": true
   },
   "outputs": [
    {
     "data": {
      "text/plain": [
       "array([[1.        , 1.41421356, 1.73205081],\n",
       "       [1.73205081, 2.23606798, 1.73205081],\n",
       "       [1.41421356, 1.        , 2.        ]])"
      ]
     },
     "execution_count": 147,
     "metadata": {},
     "output_type": "execute_result"
    }
   ],
   "source": [
    "#Square Root\n",
    "np.sqrt(A)"
   ]
  },
  {
   "cell_type": "code",
   "execution_count": 148,
   "metadata": {
    "hidden": true
   },
   "outputs": [
    {
     "name": "stdout",
     "output_type": "stream",
     "text": [
      "[[ 0.84147098  0.90929743  0.14112001]\n",
      " [ 0.14112001 -0.95892427  0.14112001]\n",
      " [ 0.90929743  0.84147098 -0.7568025 ]]\n",
      "\n",
      "[[ 0.54030231 -0.41614684 -0.9899925 ]\n",
      " [-0.9899925   0.28366219 -0.9899925 ]\n",
      " [-0.41614684  0.54030231 -0.65364362]]\n"
     ]
    }
   ],
   "source": [
    "#Sin and Cosine\n",
    "print(np.sin(A))\n",
    "print()\n",
    "print(np.cos(A))"
   ]
  },
  {
   "cell_type": "code",
   "execution_count": 149,
   "metadata": {
    "hidden": true
   },
   "outputs": [
    {
     "data": {
      "text/plain": [
       "array([[0.69314718, 0.        , 1.60943791],\n",
       "       [1.38629436, 0.        , 1.60943791],\n",
       "       [1.60943791, 1.60943791, 1.60943791]])"
      ]
     },
     "execution_count": 149,
     "metadata": {},
     "output_type": "execute_result"
    }
   ],
   "source": [
    "#Logarithm\n",
    "np.log(B)"
   ]
  },
  {
   "cell_type": "markdown",
   "metadata": {
    "hidden": true
   },
   "source": [
    "**Aggregate Functions**"
   ]
  },
  {
   "cell_type": "code",
   "execution_count": 150,
   "metadata": {
    "hidden": true
   },
   "outputs": [
    {
     "name": "stdout",
     "output_type": "stream",
     "text": [
      "A:\n",
      "[[1 2 3]\n",
      " [3 5 3]\n",
      " [2 1 4]]\n"
     ]
    }
   ],
   "source": [
    "print(\"A:\")\n",
    "print(A)"
   ]
  },
  {
   "cell_type": "code",
   "execution_count": 151,
   "metadata": {
    "hidden": true
   },
   "outputs": [
    {
     "data": {
      "text/plain": [
       "24"
      ]
     },
     "execution_count": 151,
     "metadata": {},
     "output_type": "execute_result"
    }
   ],
   "source": [
    "#Sum of all elements\n",
    "A.sum()"
   ]
  },
  {
   "cell_type": "code",
   "execution_count": 152,
   "metadata": {
    "hidden": true
   },
   "outputs": [
    {
     "data": {
      "text/plain": [
       "array([1, 1, 3])"
      ]
     },
     "execution_count": 152,
     "metadata": {},
     "output_type": "execute_result"
    }
   ],
   "source": [
    "#Minimum value\n",
    "A.min(axis=0)"
   ]
  },
  {
   "cell_type": "code",
   "execution_count": 153,
   "metadata": {
    "hidden": true
   },
   "outputs": [
    {
     "data": {
      "text/plain": [
       "5"
      ]
     },
     "execution_count": 153,
     "metadata": {},
     "output_type": "execute_result"
    }
   ],
   "source": [
    "#Maximum value\n",
    "A.max()"
   ]
  },
  {
   "cell_type": "code",
   "execution_count": 154,
   "metadata": {
    "hidden": true
   },
   "outputs": [
    {
     "data": {
      "text/plain": [
       "2.6666666666666665"
      ]
     },
     "execution_count": 154,
     "metadata": {},
     "output_type": "execute_result"
    }
   ],
   "source": [
    "#Mean\n",
    "A.mean()"
   ]
  },
  {
   "cell_type": "code",
   "execution_count": 155,
   "metadata": {
    "hidden": true
   },
   "outputs": [
    {
     "name": "stdout",
     "output_type": "stream",
     "text": [
      "[[1 1 3]\n",
      " [2 2 3]\n",
      " [3 5 4]]\n"
     ]
    }
   ],
   "source": [
    "#Sort values\n",
    "print(np.sort(A, axis=0))"
   ]
  },
  {
   "cell_type": "markdown",
   "metadata": {
    "heading_collapsed": true
   },
   "source": [
    "## Array Manipulation\n",
    "Different ways of working with numpy arrays"
   ]
  },
  {
   "cell_type": "markdown",
   "metadata": {
    "hidden": true
   },
   "source": [
    "**Copy**"
   ]
  },
  {
   "cell_type": "code",
   "execution_count": 122,
   "metadata": {
    "hidden": true
   },
   "outputs": [
    {
     "name": "stdout",
     "output_type": "stream",
     "text": [
      "[[3 4 5]\n",
      " [4 4 5]\n",
      " [1 4 1]]\n",
      "\n",
      "[[3 4 5]\n",
      " [4 4 5]\n",
      " [1 4 1]]\n"
     ]
    }
   ],
   "source": [
    "#Copying array (you can use this to make a copy of an array that you intend to change, as a backup)\n",
    "print(A)\n",
    "C = A.copy()\n",
    "print()\n",
    "print(C)"
   ]
  },
  {
   "cell_type": "markdown",
   "metadata": {
    "hidden": true
   },
   "source": [
    "**Transpose**"
   ]
  },
  {
   "cell_type": "code",
   "execution_count": 141,
   "metadata": {
    "hidden": true
   },
   "outputs": [
    {
     "name": "stdout",
     "output_type": "stream",
     "text": [
      "[[5 3 4]\n",
      " [5 3 3]\n",
      " [1 3 5]]\n",
      "\n",
      "[[5 5 1]\n",
      " [3 3 3]\n",
      " [4 3 5]]\n"
     ]
    }
   ],
   "source": [
    "#Transposition\n",
    "print(B)\n",
    "print()\n",
    "print(B.T)"
   ]
  },
  {
   "cell_type": "markdown",
   "metadata": {
    "hidden": true
   },
   "source": [
    "**Reshaping**"
   ]
  },
  {
   "cell_type": "code",
   "execution_count": 158,
   "metadata": {
    "hidden": true
   },
   "outputs": [
    {
     "name": "stdout",
     "output_type": "stream",
     "text": [
      "C: \n",
      "[[8 4 3 9 2 2]\n",
      " [2 6 9 5 9 1]\n",
      " [2 4 7 2 3 7]\n",
      " [4 1 2 7 6 9]]\n"
     ]
    }
   ],
   "source": [
    "C = np.random.randint(10, size=[4,6])\n",
    "print('C: ')\n",
    "print(C)"
   ]
  },
  {
   "cell_type": "code",
   "execution_count": 162,
   "metadata": {
    "hidden": true
   },
   "outputs": [
    {
     "data": {
      "text/plain": [
       "(24,)"
      ]
     },
     "execution_count": 162,
     "metadata": {},
     "output_type": "execute_result"
    }
   ],
   "source": [
    "#Flatten: Turns higher dimensional matrices into 1D\n",
    "C.flatten()\n",
    "C.flatten().shape"
   ]
  },
  {
   "cell_type": "code",
   "execution_count": 165,
   "metadata": {
    "hidden": true
   },
   "outputs": [
    {
     "data": {
      "text/plain": [
       "array([[8, 4, 3, 9, 2, 2, 2, 6],\n",
       "       [9, 5, 9, 1, 2, 4, 7, 2],\n",
       "       [3, 7, 4, 1, 2, 7, 6, 9]])"
      ]
     },
     "execution_count": 165,
     "metadata": {},
     "output_type": "execute_result"
    }
   ],
   "source": [
    "#Reshape: Changes the shape of the array. Prioritizes axis = 0 over higher axes (unless otherwise set)\n",
    "C.reshape(3,8)"
   ]
  },
  {
   "cell_type": "code",
   "execution_count": 177,
   "metadata": {
    "hidden": true
   },
   "outputs": [
    {
     "data": {
      "text/plain": [
       "array([[8, 4, 3, 9, 2, 2, 2, 6],\n",
       "       [9, 5, 9, 1, 2, 4, 7, 2],\n",
       "       [3, 7, 4, 1, 2, 7, 6, 9]])"
      ]
     },
     "execution_count": 177,
     "metadata": {},
     "output_type": "execute_result"
    }
   ],
   "source": [
    "#BONUS: You can use -1 to automatically calculate missing dimension size\n",
    "C.reshape(3, -1)"
   ]
  },
  {
   "cell_type": "markdown",
   "metadata": {
    "hidden": true
   },
   "source": [
    "**Combining Arrays**"
   ]
  },
  {
   "cell_type": "code",
   "execution_count": 167,
   "metadata": {
    "hidden": true
   },
   "outputs": [
    {
     "name": "stdout",
     "output_type": "stream",
     "text": [
      "A:\n",
      "[[1 2 3]\n",
      " [3 5 3]\n",
      " [2 1 4]]\n",
      "\n",
      "B:\n",
      "[[2 1 5]\n",
      " [4 1 5]\n",
      " [5 5 5]]\n"
     ]
    }
   ],
   "source": [
    "#Concatenation: Attaches one array to another given axis\n",
    "print(\"A:\")\n",
    "print(A)\n",
    "print(\"\\nB:\")\n",
    "print(B)"
   ]
  },
  {
   "cell_type": "code",
   "execution_count": 169,
   "metadata": {
    "hidden": true
   },
   "outputs": [
    {
     "data": {
      "text/plain": [
       "array([[1, 2, 3],\n",
       "       [3, 5, 3],\n",
       "       [2, 1, 4],\n",
       "       [2, 1, 5],\n",
       "       [4, 1, 5],\n",
       "       [5, 5, 5]])"
      ]
     },
     "execution_count": 169,
     "metadata": {},
     "output_type": "execute_result"
    }
   ],
   "source": [
    "np.concatenate((A,B), axis=0)"
   ]
  },
  {
   "cell_type": "markdown",
   "metadata": {
    "hidden": true
   },
   "source": [
    "**Changing Array Values**"
   ]
  },
  {
   "cell_type": "code",
   "execution_count": 173,
   "metadata": {
    "hidden": true
   },
   "outputs": [
    {
     "name": "stdout",
     "output_type": "stream",
     "text": [
      "D:\n",
      "[[9 7 3 1]\n",
      " [0 8 9 6]\n",
      " [3 5 6 2]\n",
      " [6 9 3 8]]\n"
     ]
    }
   ],
   "source": [
    "D = np.random.randint(10, size=[4,4])\n",
    "print(\"D:\")\n",
    "print(D)"
   ]
  },
  {
   "cell_type": "code",
   "execution_count": 174,
   "metadata": {
    "hidden": true
   },
   "outputs": [
    {
     "name": "stdout",
     "output_type": "stream",
     "text": [
      "D:\n",
      "[[ 9  7 99  1]\n",
      " [ 0  8 99  6]\n",
      " [ 3  5 99  2]\n",
      " [ 6  9 99  8]]\n"
     ]
    }
   ],
   "source": [
    "D[:, 2] = [99, 99, 99, 99]\n",
    "print(\"D:\")\n",
    "print(D)"
   ]
  },
  {
   "cell_type": "markdown",
   "metadata": {
    "heading_collapsed": true,
    "hidden": true
   },
   "source": [
    "### Exercise: Array Arithmetic and Manipulation"
   ]
  },
  {
   "cell_type": "code",
   "execution_count": 176,
   "metadata": {
    "hidden": true
   },
   "outputs": [
    {
     "name": "stdout",
     "output_type": "stream",
     "text": [
      "Exercise Array: \n",
      "[[2 0 9 6 1 4]\n",
      " [0 0 6 4 9 6]\n",
      " [5 5 0 4 0 9]\n",
      " [0 7 5 2 2 1]\n",
      " [8 6 4 6 3 3]\n",
      " [6 0 1 9 2 1]]\n"
     ]
    }
   ],
   "source": [
    "exercise = np.random.randint(10, size=[6,6])\n",
    "print(\"Exercise Array: \")\n",
    "print(exercise)"
   ]
  },
  {
   "cell_type": "code",
   "execution_count": null,
   "metadata": {
    "hidden": true
   },
   "outputs": [],
   "source": [
    "#1. Change all values in row 5 to -999\n",
    "\n",
    "\n",
    "print(exercise)"
   ]
  },
  {
   "cell_type": "code",
   "execution_count": null,
   "metadata": {
    "hidden": true
   },
   "outputs": [],
   "source": [
    "#2. Extract the following:\n",
    "# [2 0 9 6 1 4 0 0 6 4 9 6 5 5 0 4 0 9]\n",
    "\n",
    "print()"
   ]
  },
  {
   "cell_type": "code",
   "execution_count": null,
   "metadata": {
    "hidden": true
   },
   "outputs": [],
   "source": [
    "#3. Concatenate the transpose of the array to the left of the original array\n",
    "\n",
    "print()"
   ]
  },
  {
   "cell_type": "code",
   "execution_count": null,
   "metadata": {
    "hidden": true
   },
   "outputs": [],
   "source": [
    "#4. Print the 29th element in the resulting array of #3 when flattened?\n",
    "\n",
    "print()"
   ]
  },
  {
   "cell_type": "code",
   "execution_count": null,
   "metadata": {
    "hidden": true
   },
   "outputs": [],
   "source": [
    "#5. Reshape #3 to an 8x9 matrix\n",
    "\n",
    "print()"
   ]
  },
  {
   "cell_type": "markdown",
   "metadata": {
    "heading_collapsed": true
   },
   "source": [
    "## Data Visualization\n",
    "How to make sense of data"
   ]
  },
  {
   "cell_type": "code",
   "execution_count": 178,
   "metadata": {
    "hidden": true
   },
   "outputs": [],
   "source": [
    "import matplotlib.pyplot as plt"
   ]
  },
  {
   "cell_type": "code",
   "execution_count": 191,
   "metadata": {
    "hidden": true
   },
   "outputs": [
    {
     "name": "stdout",
     "output_type": "stream",
     "text": [
      "x:\n",
      "[51 18 53 46 27 57 67 60 80 86 69 16 25 70 83 87 72 29 26 41 69 97 86 35\n",
      "  4]\n"
     ]
    }
   ],
   "source": [
    "#Sample Data\n",
    "x = np.random.randint(100, size=[25])\n",
    "print('x:')\n",
    "print(x)"
   ]
  },
  {
   "cell_type": "markdown",
   "metadata": {
    "hidden": true
   },
   "source": [
    "**Plotting Basics**"
   ]
  },
  {
   "cell_type": "code",
   "execution_count": 192,
   "metadata": {
    "hidden": true
   },
   "outputs": [
    {
     "data": {
      "text/plain": [
       "Text(0, 0.5, 'Vals')"
      ]
     },
     "execution_count": 192,
     "metadata": {},
     "output_type": "execute_result"
    },
    {
     "data": {
      "image/png": "[encoded data removed]",
      "text/plain": [
       "<Figure size 432x288 with 1 Axes>"
      ]
     },
     "metadata": {
      "needs_background": "light"
     },
     "output_type": "display_data"
    }
   ],
   "source": [
    "plt.plot(x)\n",
    "\n",
    "#Title\n",
    "plt.title('Sample Plot')\n",
    "\n",
    "#Axis labels\n",
    "plt.xlabel('Index')\n",
    "plt.ylabel('Vals')"
   ]
  },
  {
   "cell_type": "markdown",
   "metadata": {
    "hidden": true
   },
   "source": [
    "By default, the plt.plot() function plots the data (y-axis) against the indices (x-axis) <br> <br>\n",
    "\n",
    "If for example, each value in array **x[index]** corresponds to a kWh measurement at **time t**, you can plot the graph based on this correspondence."
   ]
  },
  {
   "cell_type": "code",
   "execution_count": 198,
   "metadata": {
    "hidden": true
   },
   "outputs": [],
   "source": [
    "#25 Samples taken at equal intervals from 0 to 1 second\n",
    "t = np.linspace(0,1,25)"
   ]
  },
  {
   "cell_type": "code",
   "execution_count": 201,
   "metadata": {
    "hidden": true
   },
   "outputs": [
    {
     "data": {
      "text/plain": [
       "Text(0, 0.5, 'Power (kWh)')"
      ]
     },
     "execution_count": 201,
     "metadata": {},
     "output_type": "execute_result"
    },
    {
     "data": {
      "image/png": "[encoded data removed]",
      "text/plain": [
       "<Figure size 432x288 with 1 Axes>"
      ]
     },
     "metadata": {
      "needs_background": "light"
     },
     "output_type": "display_data"
    }
   ],
   "source": [
    "plt.plot(t, x)\n",
    "\n",
    "#Title\n",
    "plt.title('Sample Plot')\n",
    "\n",
    "#Axis labels\n",
    "plt.xlabel('Time (s)')\n",
    "plt.ylabel('Power (kWh)')"
   ]
  },
  {
   "cell_type": "code",
   "execution_count": 217,
   "metadata": {
    "hidden": true
   },
   "outputs": [
    {
     "data": {
      "text/html": [
       "<div>\n",
       "<style scoped>\n",
       "    .dataframe tbody tr th:only-of-type {\n",
       "        vertical-align: middle;\n",
       "    }\n",
       "\n",
       "    .dataframe tbody tr th {\n",
       "        vertical-align: top;\n",
       "    }\n",
       "\n",
       "    .dataframe thead th {\n",
       "        text-align: right;\n",
       "    }\n",
       "</style>\n",
       "<table border=\"1\" class=\"dataframe\">\n",
       "  <thead>\n",
       "    <tr style=\"text-align: right;\">\n",
       "      <th></th>\n",
       "      <th>Time (s)</th>\n",
       "      <th>Power (kWh)</th>\n",
       "    </tr>\n",
       "  </thead>\n",
       "  <tbody>\n",
       "    <tr>\n",
       "      <td>0</td>\n",
       "      <td>0.000000</td>\n",
       "      <td>51.0</td>\n",
       "    </tr>\n",
       "    <tr>\n",
       "      <td>1</td>\n",
       "      <td>0.041667</td>\n",
       "      <td>18.0</td>\n",
       "    </tr>\n",
       "    <tr>\n",
       "      <td>2</td>\n",
       "      <td>0.083333</td>\n",
       "      <td>53.0</td>\n",
       "    </tr>\n",
       "    <tr>\n",
       "      <td>3</td>\n",
       "      <td>0.125000</td>\n",
       "      <td>46.0</td>\n",
       "    </tr>\n",
       "    <tr>\n",
       "      <td>4</td>\n",
       "      <td>0.166667</td>\n",
       "      <td>27.0</td>\n",
       "    </tr>\n",
       "    <tr>\n",
       "      <td>5</td>\n",
       "      <td>0.208333</td>\n",
       "      <td>57.0</td>\n",
       "    </tr>\n",
       "    <tr>\n",
       "      <td>6</td>\n",
       "      <td>0.250000</td>\n",
       "      <td>67.0</td>\n",
       "    </tr>\n",
       "    <tr>\n",
       "      <td>7</td>\n",
       "      <td>0.291667</td>\n",
       "      <td>60.0</td>\n",
       "    </tr>\n",
       "    <tr>\n",
       "      <td>8</td>\n",
       "      <td>0.333333</td>\n",
       "      <td>80.0</td>\n",
       "    </tr>\n",
       "    <tr>\n",
       "      <td>9</td>\n",
       "      <td>0.375000</td>\n",
       "      <td>86.0</td>\n",
       "    </tr>\n",
       "  </tbody>\n",
       "</table>\n",
       "</div>"
      ],
      "text/plain": [
       "   Time (s)  Power (kWh)\n",
       "0  0.000000         51.0\n",
       "1  0.041667         18.0\n",
       "2  0.083333         53.0\n",
       "3  0.125000         46.0\n",
       "4  0.166667         27.0\n",
       "5  0.208333         57.0\n",
       "6  0.250000         67.0\n",
       "7  0.291667         60.0\n",
       "8  0.333333         80.0\n",
       "9  0.375000         86.0"
      ]
     },
     "execution_count": 217,
     "metadata": {},
     "output_type": "execute_result"
    }
   ],
   "source": [
    "#The graph above could represent a table of power vs time values as shown\n",
    "\n",
    "import pandas as pd\n",
    "pd.DataFrame(np.vstack((t, x)).T, columns=['Time (s)', 'Power (kWh)']).head(10)\n",
    "\n",
    "\"\"\"\n",
    "No need to understand the syntax of this code for now. But if you're curious:\n",
    "\n",
    "pandas - module for presenting data in frames (visual tables)\n",
    "np.vstack - concatenates 2 1D arrays along axis = 1 (hstack is for axis = 0, dstack is for axis = 2)\n",
    ".head(10) - pandas function. shows the first 10 elements of the table\n",
    "\n",
    "\"\"\""
   ]
  },
  {
   "cell_type": "markdown",
   "metadata": {
    "hidden": true
   },
   "source": [
    "**Changing Figure Size**"
   ]
  },
  {
   "cell_type": "code",
   "execution_count": 219,
   "metadata": {
    "hidden": true
   },
   "outputs": [
    {
     "data": {
      "text/plain": [
       "[<matplotlib.lines.Line2D at 0x26ea9145688>]"
      ]
     },
     "execution_count": 219,
     "metadata": {},
     "output_type": "execute_result"
    },
    {
     "data": {
      "image/png": "[encoded data removed]",
      "text/plain": [
       "<Figure size 1440x288 with 1 Axes>"
      ]
     },
     "metadata": {
      "needs_background": "light"
     },
     "output_type": "display_data"
    }
   ],
   "source": [
    "#To change figure size, call the plt.figure() function with the figsize parameter before plotting.\n",
    "\n",
    "#Length of 20 units, height of 4\n",
    "plt.figure(figsize=[20,4])\n",
    "\n",
    "plt.plot(t, x)"
   ]
  },
  {
   "cell_type": "markdown",
   "metadata": {
    "hidden": true
   },
   "source": [
    "**Changing Plot Styles and Colors** <br>\n",
    "\n",
    "Change the color parameter to the .plot() function call using the following cmap codes: <br>\n",
    "<span style='color:red'> **r** </span> --> red <br> \n",
    "<span style='color:green'> **g** </span> --> green <br>\n",
    "<span style='color:blue'> **b** </span> --> blue <br>\n",
    "<span style='color:cyan'> **c** </span> --> cyan <br>\n",
    "<span style='color:magenta'> **m** </span> --> magenta <br>\n",
    "<span style='color:yellow'> **y** </span> --> yellow <br>\n",
    "<span style='color:black'> **k** </span> -->  black <br>"
   ]
  },
  {
   "cell_type": "code",
   "execution_count": 224,
   "metadata": {
    "hidden": true
   },
   "outputs": [
    {
     "data": {
      "text/plain": [
       "[<matplotlib.lines.Line2D at 0x26ea9bcafc8>]"
      ]
     },
     "execution_count": 224,
     "metadata": {},
     "output_type": "execute_result"
    },
    {
     "data": {
      "image/png": "[encoded data removed]",
      "text/plain": [
       "<Figure size 1440x288 with 1 Axes>"
      ]
     },
     "metadata": {
      "needs_background": "light"
     },
     "output_type": "display_data"
    }
   ],
   "source": [
    "plt.figure(figsize=[20,4])\n",
    "\n",
    "plt.plot(t, x, 'r')"
   ]
  },
  {
   "cell_type": "markdown",
   "metadata": {
    "hidden": true
   },
   "source": [
    "Change markers using plot style codes (which can be used alongside color codes) <br>\n",
    "' + ' --> plus <br>\n",
    "' o ' --> circles <br>\n",
    "' -- ' --> dashed <br>\n",
    "' - ' --> solid <br>\n",
    "' : ' --> dotted line <br>\n",
    "' -. ' --> dash-dot <br>\n",
    "' ^ ' --> triangles"
   ]
  },
  {
   "cell_type": "code",
   "execution_count": 228,
   "metadata": {
    "hidden": true
   },
   "outputs": [
    {
     "data": {
      "text/plain": [
       "[<matplotlib.lines.Line2D at 0x26eaa25af48>]"
      ]
     },
     "execution_count": 228,
     "metadata": {},
     "output_type": "execute_result"
    },
    {
     "data": {
      "image/png": "[encoded data removed]",
      "text/plain": [
       "<Figure size 1440x288 with 1 Axes>"
      ]
     },
     "metadata": {
      "needs_background": "light"
     },
     "output_type": "display_data"
    }
   ],
   "source": [
    "#Changing plotting styles\n",
    "plt.figure(figsize=[20,4])\n",
    "\n",
    "plt.plot(t, x, 'g-.')"
   ]
  },
  {
   "cell_type": "markdown",
   "metadata": {
    "hidden": true
   },
   "source": [
    "**Overlaying Plots** <br>\n",
    "To overlay plots, just execute multiple .plot() calls"
   ]
  },
  {
   "cell_type": "code",
   "execution_count": 295,
   "metadata": {
    "hidden": true
   },
   "outputs": [],
   "source": [
    "y = 4*np.arange(25)\n",
    "z = 20* np.sin(2*np.pi*2*t)"
   ]
  },
  {
   "cell_type": "code",
   "execution_count": 300,
   "metadata": {
    "hidden": true
   },
   "outputs": [
    {
     "data": {
      "text/plain": [
       "[<matplotlib.lines.Line2D at 0x26eaebcaf08>]"
      ]
     },
     "execution_count": 300,
     "metadata": {},
     "output_type": "execute_result"
    },
    {
     "data": {
      "image/png": "[encoded data removed]",
      "text/plain": [
       "<Figure size 1440x288 with 1 Axes>"
      ]
     },
     "metadata": {
      "needs_background": "light"
     },
     "output_type": "display_data"
    }
   ],
   "source": [
    "#To change figure size, call the plt.figure() function with the figsize parameter before plotting.\n",
    "\n",
    "#Length of 20 units, height of 4\n",
    "plt.figure(figsize=[20,4])\n",
    "\n",
    "plt.plot(t, x, 'r--')\n",
    "plt.plot(t, y, 'c:')\n",
    "plt.plot(t, z, 'k^')"
   ]
  }
 ],
 "metadata": {
  "kernelspec": {
   "display_name": "Python 3",
   "language": "python",
   "name": "python3"
  },
  "language_info": {
   "codemirror_mode": {
    "name": "ipython",
    "version": 3
   },
   "file_extension": ".py",
   "mimetype": "text/x-python",
   "name": "python",
   "nbconvert_exporter": "python",
   "pygments_lexer": "ipython3",
   "version": "3.7.4"
  },
  "toc": {
   "base_numbering": 1,
   "nav_menu": {},
   "number_sections": true,
   "sideBar": true,
   "skip_h1_title": false,
   "title_cell": "Table of Contents",
   "title_sidebar": "Contents",
   "toc_cell": false,
   "toc_position": {},
   "toc_section_display": true,
   "toc_window_display": false
  },
  "varInspector": {
   "cols": {
    "lenName": 16,
    "lenType": 16,
    "lenVar": 40
   },
   "kernels_config": {
    "python": {
     "delete_cmd_postfix": "",
     "delete_cmd_prefix": "del ",
     "library": "var_list.py",
     "varRefreshCmd": "print(var_dic_list())"
    },
    "r": {
     "delete_cmd_postfix": ") ",
     "delete_cmd_prefix": "rm(",
     "library": "var_list.r",
     "varRefreshCmd": "cat(var_dic_list()) "
    }
   },
   "types_to_exclude": [
    "module",
    "function",
    "builtin_function_or_method",
    "instance",
    "_Feature"
   ],
   "window_display": false
  }
 },
 "nbformat": 4,
 "nbformat_minor": 2
}
